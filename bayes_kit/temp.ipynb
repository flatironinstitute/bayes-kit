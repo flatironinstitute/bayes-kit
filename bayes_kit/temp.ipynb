{
 "cells": [
  {
   "cell_type": "code",
   "execution_count": 21,
   "metadata": {},
   "outputs": [
    {
     "ename": "ModuleNotFoundError",
     "evalue": "No module named 'test.models'",
     "output_type": "error",
     "traceback": [
      "\u001b[0;31m---------------------------------------------------------------------------\u001b[0m",
      "\u001b[0;31mModuleNotFoundError\u001b[0m                       Traceback (most recent call last)",
      "Cell \u001b[0;32mIn[21], line 3\u001b[0m\n\u001b[1;32m      1\u001b[0m \u001b[38;5;28;01mimport\u001b[39;00m \u001b[38;5;21;01mnumpy\u001b[39;00m \u001b[38;5;28;01mas\u001b[39;00m \u001b[38;5;21;01mnp\u001b[39;00m\n\u001b[0;32m----> 3\u001b[0m \u001b[38;5;28;01mfrom\u001b[39;00m \u001b[38;5;21;01mtest\u001b[39;00m\u001b[38;5;21;01m.\u001b[39;00m\u001b[38;5;21;01mmodels\u001b[39;00m\u001b[38;5;21;01m.\u001b[39;00m\u001b[38;5;21;01mstd_normal\u001b[39;00m \u001b[38;5;28;01mimport\u001b[39;00m StdNormal\n\u001b[1;32m      4\u001b[0m \u001b[38;5;28;01mfrom\u001b[39;00m \u001b[38;5;21;01mbayes_kit\u001b[39;00m\u001b[38;5;21;01m.\u001b[39;00m\u001b[38;5;21;01mdrhmc\u001b[39;00m \u001b[38;5;28;01mimport\u001b[39;00m DRHMC\n",
      "\u001b[0;31mModuleNotFoundError\u001b[0m: No module named 'test.models'"
     ]
    }
   ],
   "source": [
    "import numpy as np\n",
    "\n",
    "from test.models.std_normal import StdNormal\n",
    "from bayes_kit.drhmc import DRHMC"
   ]
  },
  {
   "cell_type": "code",
   "execution_count": 12,
   "metadata": {},
   "outputs": [],
   "source": [
    "def test_drhmc_diag_std_normal() -> None:\n",
    "    # init with draw from posterior\n",
    "    init = np.random.normal(loc=0, scale=1, size=[1])\n",
    "    model = StdNormal()\n",
    "    hmc = HMCDiag(model, steps=10, stepsize=0.25, init=init)\n",
    "\n",
    "    M = 10000\n",
    "    draws = np.array([hmc.sample()[0] for _ in range(M)])\n",
    "\n",
    "    mean = draws.mean(axis=0)\n",
    "    var = draws.var(axis=0, ddof=1)\n",
    "\n",
    "    np.testing.assert_allclose(mean, model.posterior_mean(), atol=0.1)\n",
    "    np.testing.assert_allclose(var, model.posterior_variance(), atol=0.1)"
   ]
  },
  {
   "cell_type": "code",
   "execution_count": null,
   "metadata": {},
   "outputs": [],
   "source": []
  }
 ],
 "metadata": {
  "language_info": {
   "name": "python"
  },
  "orig_nbformat": 4
 },
 "nbformat": 4,
 "nbformat_minor": 2
}
