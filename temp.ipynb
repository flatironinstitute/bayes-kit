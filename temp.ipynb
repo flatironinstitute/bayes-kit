{
 "cells": [
  {
   "cell_type": "code",
   "execution_count": 357,
   "metadata": {},
   "outputs": [
    {
     "name": "stdout",
     "output_type": "stream",
     "text": [
      "The autoreload extension is already loaded. To reload it, use:\n",
      "  %reload_ext autoreload\n"
     ]
    }
   ],
   "source": [
    "import numpy as np\n",
    "import matplotlib.pyplot as plt\n",
    "import plotly.express as px\n",
    "import seaborn as sns\n",
    "\n",
    "from test.models.std_normal import StdNormal\n",
    "from bayes_kit.drhmc import DRHMC\n",
    "\n",
    "# autoreload modules with jupyter magic\n",
    "%load_ext autoreload\n",
    "%autoreload 2\n",
    "\n",
    "np.seterr(all='warn')\n",
    "sns.set_theme()"
   ]
  },
  {
   "cell_type": "code",
   "execution_count": 362,
   "metadata": {},
   "outputs": [],
   "source": [
    "def test_drhmc_diag_std_normal() -> None:\n",
    "    # init with draw from posterior\n",
    "    init = np.random.normal(loc=0, scale=1, size=[1])\n",
    "    model = StdNormal()\n",
    "    num_proposals = 2\n",
    "    # TODO: change stepsize_fn and steps_fn to be exponential\n",
    "    a = 2\n",
    "    stepsize_fn, steps_fn = lambda t: 0.25 * (a ** -t), lambda t: 10 * (a ** t)\n",
    "    drhmc = DRHMC(model, num_proposals, stepsize_fn, steps_fn, init=init)\n",
    "\n",
    "    M = 10000\n",
    "    # draws = np.array([drhmc.sample()[0] for _ in range(M)])\n",
    "    draws = np.zeros(M)\n",
    "    for i in range(M):\n",
    "        draws[i] = drhmc.sample()[0]\n",
    "    # histogram of draws\n",
    "    plt.hist(draws, bins=100)\n",
    "\n",
    "    mean = draws.mean(axis=0)\n",
    "    var = draws.var(axis=0, ddof=1)\n",
    "\n",
    "    #return draws\n",
    "    np.testing.assert_allclose(mean, model.posterior_mean(), atol=0.1)\n",
    "    np.testing.assert_allclose(var, model.posterior_variance(), atol=0.1)\n",
    "    "
   ]
  },
  {
   "cell_type": "code",
   "execution_count": 369,
   "metadata": {},
   "outputs": [
    {
     "name": "stdout",
     "output_type": "stream",
     "text": [
      "-0.5243005966911946 -0.8168095295535449\n"
     ]
    },
    {
     "ename": "AssertionError",
     "evalue": "",
     "output_type": "error",
     "traceback": [
      "\u001b[0;31m---------------------------------------------------------------------------\u001b[0m",
      "\u001b[0;31mAssertionError\u001b[0m                            Traceback (most recent call last)",
      "Cell \u001b[0;32mIn[369], line 1\u001b[0m\n\u001b[0;32m----> 1\u001b[0m draws \u001b[38;5;241m=\u001b[39m \u001b[43mtest_drhmc_diag_std_normal\u001b[49m\u001b[43m(\u001b[49m\u001b[43m)\u001b[49m\n",
      "Cell \u001b[0;32mIn[362], line 15\u001b[0m, in \u001b[0;36mtest_drhmc_diag_std_normal\u001b[0;34m()\u001b[0m\n\u001b[1;32m     13\u001b[0m draws \u001b[38;5;241m=\u001b[39m np\u001b[38;5;241m.\u001b[39mzeros(M)\n\u001b[1;32m     14\u001b[0m \u001b[38;5;28;01mfor\u001b[39;00m i \u001b[38;5;129;01min\u001b[39;00m \u001b[38;5;28mrange\u001b[39m(M):\n\u001b[0;32m---> 15\u001b[0m     draws[i] \u001b[38;5;241m=\u001b[39m \u001b[43mdrhmc\u001b[49m\u001b[38;5;241;43m.\u001b[39;49m\u001b[43msample\u001b[49m\u001b[43m(\u001b[49m\u001b[43m)\u001b[49m[\u001b[38;5;241m0\u001b[39m]\n\u001b[1;32m     16\u001b[0m \u001b[38;5;66;03m# histogram of draws\u001b[39;00m\n\u001b[1;32m     17\u001b[0m plt\u001b[38;5;241m.\u001b[39mhist(draws, bins\u001b[38;5;241m=\u001b[39m\u001b[38;5;241m100\u001b[39m)\n",
      "File \u001b[0;32m~/school/flatiron/bayes-kit/bayes_kit/drhmc.py:80\u001b[0m, in \u001b[0;36mDRHMC.sample\u001b[0;34m(self)\u001b[0m\n\u001b[1;32m     78\u001b[0m theta_prop, rho_prop \u001b[39m=\u001b[39m \u001b[39mself\u001b[39m\u001b[39m.\u001b[39mleapfrog(\u001b[39mself\u001b[39m\u001b[39m.\u001b[39m_theta, rho, stepsize, steps)\n\u001b[1;32m     79\u001b[0m rho_prop \u001b[39m*\u001b[39m\u001b[39m=\u001b[39m \u001b[39m-\u001b[39m\u001b[39m1\u001b[39m\n\u001b[0;32m---> 80\u001b[0m accept_logp \u001b[39m=\u001b[39m \u001b[39mself\u001b[39;49m\u001b[39m.\u001b[39;49maccept(\n\u001b[1;32m     81\u001b[0m     \u001b[39mself\u001b[39;49m\u001b[39m.\u001b[39;49m_theta, rho, theta_prop, rho_prop, k, log_denom\n\u001b[1;32m     82\u001b[0m )\n\u001b[1;32m     83\u001b[0m log_denom \u001b[39m+\u001b[39m\u001b[39m=\u001b[39m \u001b[39m1\u001b[39m \u001b[39m-\u001b[39m np\u001b[39m.\u001b[39mexp(accept_logp)\n\u001b[1;32m     84\u001b[0m \u001b[39mif\u001b[39;00m np\u001b[39m.\u001b[39mlog(\u001b[39mself\u001b[39m\u001b[39m.\u001b[39m_rng\u001b[39m.\u001b[39muniform()) \u001b[39m<\u001b[39m accept_logp:\n",
      "File \u001b[0;32m~/school/flatiron/bayes-kit/bayes_kit/drhmc.py:116\u001b[0m, in \u001b[0;36mDRHMC.accept\u001b[0;34m(self, theta, rho, theta_prop, rho_prop, k, log_denom)\u001b[0m\n\u001b[1;32m    114\u001b[0m rhs \u001b[39m=\u001b[39m logp_prop \u001b[39m+\u001b[39m \u001b[39mmin\u001b[39m(\u001b[39m0\u001b[39m, (logp_prop \u001b[39m-\u001b[39m logp) \u001b[39m+\u001b[39m (log_num \u001b[39m-\u001b[39m log_denom))\n\u001b[1;32m    115\u001b[0m \u001b[39mprint\u001b[39m(lhs, rhs)\n\u001b[0;32m--> 116\u001b[0m \u001b[39massert\u001b[39;00m(lhs \u001b[39m==\u001b[39m rhs)\n\u001b[1;32m    117\u001b[0m \u001b[39mreturn\u001b[39;00m \u001b[39mmin\u001b[39m(\u001b[39m0\u001b[39m, (logp_prop \u001b[39m-\u001b[39m logp) \u001b[39m+\u001b[39m (log_num \u001b[39m-\u001b[39m log_denom))\n",
      "\u001b[0;31mAssertionError\u001b[0m: "
     ]
    }
   ],
   "source": [
    "draws = test_drhmc_diag_std_normal()"
   ]
  }
 ],
 "metadata": {
  "kernelspec": {
   "display_name": "Python 3.11.3 ('bayes-kit')",
   "language": "python",
   "name": "python3"
  },
  "language_info": {
   "codemirror_mode": {
    "name": "ipython",
    "version": 3
   },
   "file_extension": ".py",
   "mimetype": "text/x-python",
   "name": "python",
   "nbconvert_exporter": "python",
   "pygments_lexer": "ipython3",
   "version": "3.11.3"
  },
  "orig_nbformat": 4,
  "vscode": {
   "interpreter": {
    "hash": "fd1c699f3e442f743ac1814cfbe345c4f2401b771da42055f882868fdb58be13"
   }
  }
 },
 "nbformat": 4,
 "nbformat_minor": 2
}
