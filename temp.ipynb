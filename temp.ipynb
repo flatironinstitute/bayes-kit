{
 "cells": [
  {
   "cell_type": "code",
   "execution_count": 186,
   "metadata": {},
   "outputs": [
    {
     "name": "stdout",
     "output_type": "stream",
     "text": [
      "draws[200:210]=array([nan, nan, nan, nan, nan, nan, nan, nan, nan, nan])\n",
      "mean=nan  var=nan\n",
      "acceptance rate : 1.0\n"
     ]
    },
    {
     "ename": "AssertionError",
     "evalue": "\nNot equal to tolerance rtol=1e-07, atol=0.05\n\nx and y nan location mismatch:\n x: array(nan)\n y: array(0.35)",
     "output_type": "error",
     "traceback": [
      "\u001b[0;31m---------------------------------------------------------------------------\u001b[0m",
      "\u001b[0;31mAssertionError\u001b[0m                            Traceback (most recent call last)",
      "Cell \u001b[0;32mIn[186], line 4\u001b[0m\n\u001b[1;32m      1\u001b[0m \u001b[38;5;28;01mfrom\u001b[39;00m \u001b[38;5;21;01mtest\u001b[39;00m\u001b[38;5;21;01m.\u001b[39;00m\u001b[38;5;21;01mtest_hmc\u001b[39;00m \u001b[38;5;28;01mimport\u001b[39;00m test_hmc_diag_std_normal, test_hmc_binom\n\u001b[1;32m      3\u001b[0m \u001b[38;5;66;03m# test_hmc_diag_std_normal()\u001b[39;00m\n\u001b[0;32m----> 4\u001b[0m \u001b[43mtest_hmc_binom\u001b[49m\u001b[43m(\u001b[49m\u001b[43m)\u001b[49m\n",
      "File \u001b[0;32m~/school/flatiron/bayes-kit/test/test_hmc.py:89\u001b[0m, in \u001b[0;36mtest_hmc_binom\u001b[0;34m()\u001b[0m\n\u001b[1;32m     86\u001b[0m \u001b[39mprint\u001b[39m(\u001b[39mf\u001b[39m\u001b[39m\"\u001b[39m\u001b[39m{\u001b[39;00mmean\u001b[39m=}\u001b[39;00m\u001b[39m  \u001b[39m\u001b[39m{\u001b[39;00mvar\u001b[39m=}\u001b[39;00m\u001b[39m\"\u001b[39m)\n\u001b[1;32m     87\u001b[0m \u001b[39mprint\u001b[39m(\u001b[39mf\u001b[39m\u001b[39m\"\u001b[39m\u001b[39macceptance rate : \u001b[39m\u001b[39m{\u001b[39;00m\u001b[39m1\u001b[39m\u001b[39m \u001b[39m\u001b[39m-\u001b[39m\u001b[39m \u001b[39m(draws[\u001b[39m1\u001b[39m:]\u001b[39m \u001b[39m\u001b[39m==\u001b[39m\u001b[39m \u001b[39mdraws[:\u001b[39m-\u001b[39m\u001b[39m1\u001b[39m]\u001b[39m \u001b[39m)\u001b[39m.\u001b[39msum()\u001b[39m \u001b[39m\u001b[39m/\u001b[39m\u001b[39m \u001b[39mM\u001b[39m}\u001b[39;00m\u001b[39m\"\u001b[39m)\n\u001b[0;32m---> 89\u001b[0m np\u001b[39m.\u001b[39;49mtesting\u001b[39m.\u001b[39;49massert_allclose(mean, model\u001b[39m.\u001b[39;49mposterior_mean(), atol\u001b[39m=\u001b[39;49m\u001b[39m0.05\u001b[39;49m)\n\u001b[1;32m     90\u001b[0m np\u001b[39m.\u001b[39mtesting\u001b[39m.\u001b[39massert_allclose(var, model\u001b[39m.\u001b[39mposterior_variance(), atol\u001b[39m=\u001b[39m\u001b[39m0.01\u001b[39m)\n",
      "    \u001b[0;31m[... skipping hidden 1 frame]\u001b[0m\n",
      "File \u001b[0;32m~/mambaforge/envs/bayes-kit/lib/python3.11/contextlib.py:81\u001b[0m, in \u001b[0;36mContextDecorator.__call__.<locals>.inner\u001b[0;34m(*args, **kwds)\u001b[0m\n\u001b[1;32m     78\u001b[0m \u001b[39m@wraps\u001b[39m(func)\n\u001b[1;32m     79\u001b[0m \u001b[39mdef\u001b[39;00m \u001b[39minner\u001b[39m(\u001b[39m*\u001b[39margs, \u001b[39m*\u001b[39m\u001b[39m*\u001b[39mkwds):\n\u001b[1;32m     80\u001b[0m     \u001b[39mwith\u001b[39;00m \u001b[39mself\u001b[39m\u001b[39m.\u001b[39m_recreate_cm():\n\u001b[0;32m---> 81\u001b[0m         \u001b[39mreturn\u001b[39;00m func(\u001b[39m*\u001b[39;49margs, \u001b[39m*\u001b[39;49m\u001b[39m*\u001b[39;49mkwds)\n",
      "    \u001b[0;31m[... skipping hidden 1 frame]\u001b[0m\n",
      "File \u001b[0;32m~/mambaforge/envs/bayes-kit/lib/python3.11/site-packages/numpy/testing/_private/utils.py:753\u001b[0m, in \u001b[0;36massert_array_compare.<locals>.func_assert_same_pos\u001b[0;34m(x, y, func, hasval)\u001b[0m\n\u001b[1;32m    748\u001b[0m \u001b[39mif\u001b[39;00m bool_(x_id \u001b[39m==\u001b[39m y_id)\u001b[39m.\u001b[39mall() \u001b[39m!=\u001b[39m \u001b[39mTrue\u001b[39;00m:\n\u001b[1;32m    749\u001b[0m     msg \u001b[39m=\u001b[39m build_err_msg([x, y],\n\u001b[1;32m    750\u001b[0m                         err_msg \u001b[39m+\u001b[39m \u001b[39m'\u001b[39m\u001b[39m\\n\u001b[39;00m\u001b[39mx and y \u001b[39m\u001b[39m%s\u001b[39;00m\u001b[39m location mismatch:\u001b[39m\u001b[39m'\u001b[39m\n\u001b[1;32m    751\u001b[0m                         \u001b[39m%\u001b[39m (hasval), verbose\u001b[39m=\u001b[39mverbose, header\u001b[39m=\u001b[39mheader,\n\u001b[1;32m    752\u001b[0m                         names\u001b[39m=\u001b[39m(\u001b[39m'\u001b[39m\u001b[39mx\u001b[39m\u001b[39m'\u001b[39m, \u001b[39m'\u001b[39m\u001b[39my\u001b[39m\u001b[39m'\u001b[39m), precision\u001b[39m=\u001b[39mprecision)\n\u001b[0;32m--> 753\u001b[0m     \u001b[39mraise\u001b[39;00m \u001b[39mAssertionError\u001b[39;00m(msg)\n\u001b[1;32m    754\u001b[0m \u001b[39m# If there is a scalar, then here we know the array has the same\u001b[39;00m\n\u001b[1;32m    755\u001b[0m \u001b[39m# flag as it everywhere, so we should return the scalar flag.\u001b[39;00m\n\u001b[1;32m    756\u001b[0m \u001b[39mif\u001b[39;00m \u001b[39misinstance\u001b[39m(x_id, \u001b[39mbool\u001b[39m) \u001b[39mor\u001b[39;00m x_id\u001b[39m.\u001b[39mndim \u001b[39m==\u001b[39m \u001b[39m0\u001b[39m:\n",
      "\u001b[0;31mAssertionError\u001b[0m: \nNot equal to tolerance rtol=1e-07, atol=0.05\n\nx and y nan location mismatch:\n x: array(nan)\n y: array(0.35)"
     ]
    }
   ],
   "source": [
    "from test.test_hmc import test_hmc_diag_std_normal, test_hmc_binom\n",
    "\n",
    "# test_hmc_diag_std_normal()\n",
    "test_hmc_binom()"
   ]
  },
  {
   "cell_type": "code",
   "execution_count": 145,
   "metadata": {},
   "outputs": [
    {
     "name": "stdout",
     "output_type": "stream",
     "text": [
      "The autoreload extension is already loaded. To reload it, use:\n",
      "  %reload_ext autoreload\n"
     ]
    }
   ],
   "source": [
    "import numpy as np\n",
    "import matplotlib.pyplot as plt\n",
    "import plotly.express as px\n",
    "import seaborn as sns\n",
    "\n",
    "from test.models.std_normal import StdNormal\n",
    "from bayes_kit.drhmc import DRHMC\n",
    "\n",
    "# autoreload modules with jupyter magic\n",
    "%load_ext autoreload\n",
    "%autoreload 2\n",
    "\n",
    "np.seterr(all='raise')\n",
    "sns.set_theme()"
   ]
  },
  {
   "cell_type": "code",
   "execution_count": 240,
   "metadata": {},
   "outputs": [],
   "source": [
    "def test_drhmc_diag_std_normal() -> None:\n",
    "    # init with draw from posterior\n",
    "    init = np.random.normal(loc=0, scale=1, size=[1])\n",
    "    model = StdNormal()\n",
    "    num_proposals = 1\n",
    "    # TODO: change stepsize_fn and steps_fn to be exponential\n",
    "    # stepsize_fn, steps_fn = lambda t: 0.25 / (t + 1), lambda t: 10 * (t + 1)\n",
    "    a = 2\n",
    "    stepsize_fn, steps_fn = lambda t: 0.25 * (a ** -t), lambda t: 10 * (a ** t)\n",
    "    drhmc = DRHMC(model, num_proposals, stepsize_fn, steps_fn, init=init)\n",
    "\n",
    "    M = 10000\n",
    "    # draws = np.array([drhmc.sample()[0] for _ in range(M)])\n",
    "    draws = np.zeros(M)\n",
    "    for i in range(M):\n",
    "        draws[i] = drhmc.sample()[0]\n",
    "    # histogram of draws\n",
    "    plt.hist(draws, bins=100)\n",
    "\n",
    "    mean = draws.mean(axis=0)\n",
    "    var = draws.var(axis=0, ddof=1)\n",
    "    \n",
    "    #return draws\n",
    "    np.testing.assert_allclose(mean, model.posterior_mean(), atol=0.1)\n",
    "    np.testing.assert_allclose(var, model.posterior_variance(), atol=0.1)\n",
    "    "
   ]
  },
  {
   "cell_type": "code",
   "execution_count": 250,
   "metadata": {},
   "outputs": [
    {
     "data": {
      "image/png": "[encoded data removed]",
      "text/plain": [
       "<Figure size 640x480 with 1 Axes>"
      ]
     },
     "metadata": {},
     "output_type": "display_data"
    }
   ],
   "source": [
    "draws = test_drhmc_diag_std_normal()"
   ]
  }
 ],
 "metadata": {
  "kernelspec": {
   "display_name": "Python 3.11.3 ('bayes-kit')",
   "language": "python",
   "name": "python3"
  },
  "language_info": {
   "codemirror_mode": {
    "name": "ipython",
    "version": 3
   },
   "file_extension": ".py",
   "mimetype": "text/x-python",
   "name": "python",
   "nbconvert_exporter": "python",
   "pygments_lexer": "ipython3",
   "version": "3.11.3"
  },
  "orig_nbformat": 4,
  "vscode": {
   "interpreter": {
    "hash": "fd1c699f3e442f743ac1814cfbe345c4f2401b771da42055f882868fdb58be13"
   }
  }
 },
 "nbformat": 4,
 "nbformat_minor": 2
}
